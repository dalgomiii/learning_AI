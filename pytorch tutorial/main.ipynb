{
 "cells": [
  {
   "cell_type": "code",
   "execution_count": 35,
   "metadata": {},
   "outputs": [],
   "source": [
    "from torchvision import datasets\n",
    "from torchvision.transforms import ToTensor"
   ]
  },
  {
   "cell_type": "code",
   "execution_count": 36,
   "metadata": {},
   "outputs": [],
   "source": [
    "train_data = datasets.MNIST(\n",
    "    root = 'data',\n",
    "    train = True,\n",
    "    transform = ToTensor(),\n",
    "    download = True\n",
    ")\n",
    "test_data = datasets.MNIST(\n",
    "    root = 'data',\n",
    "    train = False,\n",
    "    transform = ToTensor(),\n",
    "    download = True\n",
    ")"
   ]
  },
  {
   "cell_type": "code",
   "execution_count": 37,
   "metadata": {},
   "outputs": [
    {
     "data": {
      "text/plain": [
       "Dataset MNIST\n",
       "    Number of datapoints: 60000\n",
       "    Root location: data\n",
       "    Split: Train\n",
       "    StandardTransform\n",
       "Transform: ToTensor()"
      ]
     },
     "execution_count": 37,
     "metadata": {},
     "output_type": "execute_result"
    }
   ],
   "source": [
    "train_data"
   ]
  },
  {
   "cell_type": "code",
   "execution_count": 38,
   "metadata": {},
   "outputs": [
    {
     "data": {
      "text/plain": [
       "Dataset MNIST\n",
       "    Number of datapoints: 10000\n",
       "    Root location: data\n",
       "    Split: Test\n",
       "    StandardTransform\n",
       "Transform: ToTensor()"
      ]
     },
     "execution_count": 38,
     "metadata": {},
     "output_type": "execute_result"
    }
   ],
   "source": [
    "test_data"
   ]
  },
  {
   "cell_type": "code",
   "execution_count": 39,
   "metadata": {},
   "outputs": [
    {
     "data": {
      "text/plain": [
       "torch.Size([60000, 28, 28])"
      ]
     },
     "execution_count": 39,
     "metadata": {},
     "output_type": "execute_result"
    }
   ],
   "source": [
    "train_data.data.size()"
   ]
  },
  {
   "cell_type": "code",
   "execution_count": 40,
   "metadata": {},
   "outputs": [
    {
     "data": {
      "text/plain": [
       "torch.Size([10000, 28, 28])"
      ]
     },
     "execution_count": 40,
     "metadata": {},
     "output_type": "execute_result"
    }
   ],
   "source": [
    "test_data.data.size()"
   ]
  },
  {
   "cell_type": "code",
   "execution_count": 41,
   "metadata": {},
   "outputs": [
    {
     "data": {
      "text/plain": [
       "torch.Size([60000])"
      ]
     },
     "execution_count": 41,
     "metadata": {},
     "output_type": "execute_result"
    }
   ],
   "source": [
    "train_data.targets.size()"
   ]
  },
  {
   "cell_type": "code",
   "execution_count": 42,
   "metadata": {},
   "outputs": [
    {
     "data": {
      "text/plain": [
       "tensor([5, 0, 4,  ..., 5, 6, 8])"
      ]
     },
     "execution_count": 42,
     "metadata": {},
     "output_type": "execute_result"
    }
   ],
   "source": [
    "train_data.targets"
   ]
  },
  {
   "cell_type": "code",
   "execution_count": 43,
   "metadata": {},
   "outputs": [],
   "source": [
    "from torch.utils.data import DataLoader\n",
    "\n",
    "loaders = {\n",
    "\n",
    "    'train' : DataLoader(train_data,\n",
    "                         batch_size = 100,\n",
    "                         shuffle = True,\n",
    "                         num_workers = 1),\n",
    "\n",
    "    'test' : DataLoader(test_data,\n",
    "                         batch_size = 100,\n",
    "                         shuffle = True,\n",
    "                         num_workers = 1)\n",
    "}"
   ]
  },
  {
   "cell_type": "code",
   "execution_count": 44,
   "metadata": {},
   "outputs": [
    {
     "data": {
      "text/plain": [
       "{'train': <torch.utils.data.dataloader.DataLoader at 0x125b98cd0>,\n",
       " 'test': <torch.utils.data.dataloader.DataLoader at 0x125d53750>}"
      ]
     },
     "execution_count": 44,
     "metadata": {},
     "output_type": "execute_result"
    }
   ],
   "source": [
    "loaders"
   ]
  },
  {
   "cell_type": "code",
   "execution_count": 50,
   "metadata": {},
   "outputs": [],
   "source": [
    "import torch.nn as nn\n",
    "import torch.nn.functional as F\n",
    "import torch.optim as optim\n",
    "\n",
    "class CNN(nn.Module):\n",
    "    def __init__(self):\n",
    "        super(CNN,self).__init__()\n",
    "\n",
    "        self.conv1 = nn.Conv2d(1,10,kernel_size = 5)\n",
    "        self.conv2 = nn.Conv2d(10,20,kernel_size = 5)\n",
    "        self.conv2_drop = nn.Dropout2d()\n",
    "        self.fc1 = nn.Linear(320,50)\n",
    "        self.fc2 = nn.Linear(50,10)\n",
    "\n",
    "    def forward(self, x):\n",
    "        x = F.relu(F.max_pool2d(self.conv1(x),2))\n",
    "        x = F.relu(F.max_pool2d(self.conv2_drop(self.conv2(x)),2))\n",
    "        x = x.view(-1,320)\n",
    "        x = F.relu(self.fc1(x))\n",
    "        x = F.dropout(x,training=self.training)\n",
    "        x = self.fc2(x)\n",
    "\n",
    "        return F.softmax(x)\n"
   ]
  },
  {
   "cell_type": "code",
   "execution_count": 51,
   "metadata": {},
   "outputs": [],
   "source": [
    "import torch\n",
    "\n",
    "device = torch.device('cpu')\n",
    "\n",
    "model = CNN().to(device)\n",
    "\n",
    "optimiser = optim.Adam(model.parameters(),lr = 0.001)\n",
    "\n",
    "loss_fn = nn.CrossEntropyLoss()\n",
    "\n",
    "def train(epoch):\n",
    "    model.train()\n",
    "    for batch_idx, (data,target) in enumerate(loaders['train']):\n",
    "        data, target = data.to(device),target.to(device)\n",
    "        optimiser.zero_grad()\n",
    "        output = model(data)\n",
    "        loss = loss_fn(output,target)\n",
    "        loss.backward()\n",
    "        optimiser.step()\n",
    "        if batch_idx % 20 == 0:\n",
    "            print(f'Train Epoch: {epoch}[{batch_idx * len(data)}/{len(loaders[\"train\"].dataset)} ({100.*batch_idx/len(loaders[\"train\"]):.0f}%)] \\t {loss.item():.6f}')\n",
    "\n",
    "def test():\n",
    "    model.eval()\n",
    "\n",
    "    test_loss = 0\n",
    "    correct = 0\n",
    "\n",
    "    with torch.no_grad():\n",
    "        for data,target in loaders['test']:\n",
    "            data, target = data.to(device), target.to(device)\n",
    "            output = model(data)\n",
    "            test_loss += loss_fn(output,target).item()\n",
    "            pred = output.argmax(dim = 1, keepdim = True)\n",
    "            correct += pred.eq(target.view_as(pred)).sum().item()\n",
    "\n",
    "    test_loss /= len(loaders['test'].dataset)\n",
    "    print(f'\\nTest set: Average loss: {test_loss:.4f}, Accuracy{correct}/{len(loaders[\"test\"].dataset)}({100.*correct/len(loaders[\"test\"].dataset):.0f}%\\n)')"
   ]
  },
  {
   "cell_type": "code",
   "execution_count": 52,
   "metadata": {},
   "outputs": [
    {
     "name": "stderr",
     "output_type": "stream",
     "text": [
      "/var/folders/z5/9j56pcy9201dt_t1pww9k6g80000gn/T/ipykernel_3927/3199859990.py:23: UserWarning: Implicit dimension choice for softmax has been deprecated. Change the call to include dim=X as an argument.\n",
      "  return F.softmax(x)\n"
     ]
    },
    {
     "name": "stdout",
     "output_type": "stream",
     "text": [
      "Train Epoch: 1[0/60000 (0%)] \t 2.302145\n",
      "Train Epoch: 1[2000/60000 (3%)] \t 2.284935\n",
      "Train Epoch: 1[4000/60000 (7%)] \t 2.178335\n",
      "Train Epoch: 1[6000/60000 (10%)] \t 1.942323\n",
      "Train Epoch: 1[8000/60000 (13%)] \t 2.025531\n",
      "Train Epoch: 1[10000/60000 (17%)] \t 1.902502\n",
      "Train Epoch: 1[12000/60000 (20%)] \t 1.796666\n",
      "Train Epoch: 1[14000/60000 (23%)] \t 1.832076\n",
      "Train Epoch: 1[16000/60000 (27%)] \t 1.707885\n",
      "Train Epoch: 1[18000/60000 (30%)] \t 1.822477\n",
      "Train Epoch: 1[20000/60000 (33%)] \t 1.700879\n",
      "Train Epoch: 1[22000/60000 (37%)] \t 1.711403\n",
      "Train Epoch: 1[24000/60000 (40%)] \t 1.767615\n",
      "Train Epoch: 1[26000/60000 (43%)] \t 1.679398\n",
      "Train Epoch: 1[28000/60000 (47%)] \t 1.620232\n",
      "Train Epoch: 1[30000/60000 (50%)] \t 1.669435\n",
      "Train Epoch: 1[32000/60000 (53%)] \t 1.662492\n",
      "Train Epoch: 1[34000/60000 (57%)] \t 1.622432\n",
      "Train Epoch: 1[36000/60000 (60%)] \t 1.733882\n",
      "Train Epoch: 1[38000/60000 (63%)] \t 1.695551\n",
      "Train Epoch: 1[40000/60000 (67%)] \t 1.651671\n",
      "Train Epoch: 1[42000/60000 (70%)] \t 1.683404\n",
      "Train Epoch: 1[44000/60000 (73%)] \t 1.627745\n",
      "Train Epoch: 1[46000/60000 (77%)] \t 1.634250\n",
      "Train Epoch: 1[48000/60000 (80%)] \t 1.694008\n",
      "Train Epoch: 1[50000/60000 (83%)] \t 1.614977\n",
      "Train Epoch: 1[52000/60000 (87%)] \t 1.640216\n",
      "Train Epoch: 1[54000/60000 (90%)] \t 1.666521\n",
      "Train Epoch: 1[56000/60000 (93%)] \t 1.551863\n",
      "Train Epoch: 1[58000/60000 (97%)] \t 1.607900\n",
      "\n",
      "Test set: Average loss: 0.0153, Accuracy9277/10000(93%\n",
      ")\n",
      "Train Epoch: 2[0/60000 (0%)] \t 1.638316\n",
      "Train Epoch: 2[2000/60000 (3%)] \t 1.589145\n",
      "Train Epoch: 2[4000/60000 (7%)] \t 1.591262\n",
      "Train Epoch: 2[6000/60000 (10%)] \t 1.553641\n",
      "Train Epoch: 2[8000/60000 (13%)] \t 1.613633\n",
      "Train Epoch: 2[10000/60000 (17%)] \t 1.625160\n",
      "Train Epoch: 2[12000/60000 (20%)] \t 1.654552\n",
      "Train Epoch: 2[14000/60000 (23%)] \t 1.619167\n",
      "Train Epoch: 2[16000/60000 (27%)] \t 1.590258\n",
      "Train Epoch: 2[18000/60000 (30%)] \t 1.586134\n",
      "Train Epoch: 2[20000/60000 (33%)] \t 1.604080\n",
      "Train Epoch: 2[22000/60000 (37%)] \t 1.588490\n",
      "Train Epoch: 2[24000/60000 (40%)] \t 1.575046\n",
      "Train Epoch: 2[26000/60000 (43%)] \t 1.607159\n",
      "Train Epoch: 2[28000/60000 (47%)] \t 1.590777\n",
      "Train Epoch: 2[30000/60000 (50%)] \t 1.573436\n",
      "Train Epoch: 2[32000/60000 (53%)] \t 1.584448\n",
      "Train Epoch: 2[34000/60000 (57%)] \t 1.596122\n",
      "Train Epoch: 2[36000/60000 (60%)] \t 1.572616\n",
      "Train Epoch: 2[38000/60000 (63%)] \t 1.608777\n",
      "Train Epoch: 2[40000/60000 (67%)] \t 1.550372\n",
      "Train Epoch: 2[42000/60000 (70%)] \t 1.595268\n",
      "Train Epoch: 2[44000/60000 (73%)] \t 1.645330\n",
      "Train Epoch: 2[46000/60000 (77%)] \t 1.513037\n",
      "Train Epoch: 2[48000/60000 (80%)] \t 1.560099\n",
      "Train Epoch: 2[50000/60000 (83%)] \t 1.600797\n",
      "Train Epoch: 2[52000/60000 (87%)] \t 1.560125\n",
      "Train Epoch: 2[54000/60000 (90%)] \t 1.589375\n",
      "Train Epoch: 2[56000/60000 (93%)] \t 1.620679\n",
      "Train Epoch: 2[58000/60000 (97%)] \t 1.585506\n",
      "\n",
      "Test set: Average loss: 0.0151, Accuracy9471/10000(95%\n",
      ")\n",
      "Train Epoch: 3[0/60000 (0%)] \t 1.564704\n",
      "Train Epoch: 3[2000/60000 (3%)] \t 1.635113\n",
      "Train Epoch: 3[4000/60000 (7%)] \t 1.555945\n",
      "Train Epoch: 3[6000/60000 (10%)] \t 1.566748\n",
      "Train Epoch: 3[8000/60000 (13%)] \t 1.591500\n",
      "Train Epoch: 3[10000/60000 (17%)] \t 1.577418\n",
      "Train Epoch: 3[12000/60000 (20%)] \t 1.612518\n",
      "Train Epoch: 3[14000/60000 (23%)] \t 1.575340\n",
      "Train Epoch: 3[16000/60000 (27%)] \t 1.580308\n",
      "Train Epoch: 3[18000/60000 (30%)] \t 1.557413\n",
      "Train Epoch: 3[20000/60000 (33%)] \t 1.570679\n",
      "Train Epoch: 3[22000/60000 (37%)] \t 1.532767\n",
      "Train Epoch: 3[24000/60000 (40%)] \t 1.586393\n",
      "Train Epoch: 3[26000/60000 (43%)] \t 1.602838\n",
      "Train Epoch: 3[28000/60000 (47%)] \t 1.676494\n",
      "Train Epoch: 3[30000/60000 (50%)] \t 1.572757\n",
      "Train Epoch: 3[32000/60000 (53%)] \t 1.539962\n",
      "Train Epoch: 3[34000/60000 (57%)] \t 1.536325\n",
      "Train Epoch: 3[36000/60000 (60%)] \t 1.573805\n",
      "Train Epoch: 3[38000/60000 (63%)] \t 1.615658\n",
      "Train Epoch: 3[40000/60000 (67%)] \t 1.604083\n",
      "Train Epoch: 3[42000/60000 (70%)] \t 1.518481\n",
      "Train Epoch: 3[44000/60000 (73%)] \t 1.638658\n",
      "Train Epoch: 3[46000/60000 (77%)] \t 1.549989\n",
      "Train Epoch: 3[48000/60000 (80%)] \t 1.608266\n",
      "Train Epoch: 3[50000/60000 (83%)] \t 1.558536\n",
      "Train Epoch: 3[52000/60000 (87%)] \t 1.592302\n",
      "Train Epoch: 3[54000/60000 (90%)] \t 1.536025\n",
      "Train Epoch: 3[56000/60000 (93%)] \t 1.573445\n",
      "Train Epoch: 3[58000/60000 (97%)] \t 1.563931\n",
      "\n",
      "Test set: Average loss: 0.0151, Accuracy9549/10000(95%\n",
      ")\n",
      "Train Epoch: 4[0/60000 (0%)] \t 1.548982\n",
      "Train Epoch: 4[2000/60000 (3%)] \t 1.571276\n",
      "Train Epoch: 4[4000/60000 (7%)] \t 1.590740\n",
      "Train Epoch: 4[6000/60000 (10%)] \t 1.553548\n",
      "Train Epoch: 4[8000/60000 (13%)] \t 1.536916\n",
      "Train Epoch: 4[10000/60000 (17%)] \t 1.573954\n",
      "Train Epoch: 4[12000/60000 (20%)] \t 1.526794\n",
      "Train Epoch: 4[14000/60000 (23%)] \t 1.544296\n",
      "Train Epoch: 4[16000/60000 (27%)] \t 1.543811\n",
      "Train Epoch: 4[18000/60000 (30%)] \t 1.549728\n",
      "Train Epoch: 4[20000/60000 (33%)] \t 1.567593\n",
      "Train Epoch: 4[22000/60000 (37%)] \t 1.550245\n",
      "Train Epoch: 4[24000/60000 (40%)] \t 1.563150\n",
      "Train Epoch: 4[26000/60000 (43%)] \t 1.583130\n",
      "Train Epoch: 4[28000/60000 (47%)] \t 1.530975\n",
      "Train Epoch: 4[30000/60000 (50%)] \t 1.516841\n",
      "Train Epoch: 4[32000/60000 (53%)] \t 1.530347\n",
      "Train Epoch: 4[34000/60000 (57%)] \t 1.583577\n",
      "Train Epoch: 4[36000/60000 (60%)] \t 1.594919\n",
      "Train Epoch: 4[38000/60000 (63%)] \t 1.554455\n",
      "Train Epoch: 4[40000/60000 (67%)] \t 1.592978\n",
      "Train Epoch: 4[42000/60000 (70%)] \t 1.610522\n",
      "Train Epoch: 4[44000/60000 (73%)] \t 1.578910\n",
      "Train Epoch: 4[46000/60000 (77%)] \t 1.513536\n",
      "Train Epoch: 4[48000/60000 (80%)] \t 1.573497\n",
      "Train Epoch: 4[50000/60000 (83%)] \t 1.541056\n",
      "Train Epoch: 4[52000/60000 (87%)] \t 1.569176\n",
      "Train Epoch: 4[54000/60000 (90%)] \t 1.583042\n",
      "Train Epoch: 4[56000/60000 (93%)] \t 1.547859\n",
      "Train Epoch: 4[58000/60000 (97%)] \t 1.577960\n",
      "\n",
      "Test set: Average loss: 0.0150, Accuracy9583/10000(96%\n",
      ")\n",
      "Train Epoch: 5[0/60000 (0%)] \t 1.554887\n",
      "Train Epoch: 5[2000/60000 (3%)] \t 1.530294\n",
      "Train Epoch: 5[4000/60000 (7%)] \t 1.610760\n",
      "Train Epoch: 5[6000/60000 (10%)] \t 1.533037\n",
      "Train Epoch: 5[8000/60000 (13%)] \t 1.559764\n",
      "Train Epoch: 5[10000/60000 (17%)] \t 1.547537\n",
      "Train Epoch: 5[12000/60000 (20%)] \t 1.554034\n",
      "Train Epoch: 5[14000/60000 (23%)] \t 1.522178\n",
      "Train Epoch: 5[16000/60000 (27%)] \t 1.565018\n",
      "Train Epoch: 5[18000/60000 (30%)] \t 1.506090\n",
      "Train Epoch: 5[20000/60000 (33%)] \t 1.540309\n",
      "Train Epoch: 5[22000/60000 (37%)] \t 1.583577\n",
      "Train Epoch: 5[24000/60000 (40%)] \t 1.585488\n",
      "Train Epoch: 5[26000/60000 (43%)] \t 1.588063\n",
      "Train Epoch: 5[28000/60000 (47%)] \t 1.546489\n",
      "Train Epoch: 5[30000/60000 (50%)] \t 1.529781\n",
      "Train Epoch: 5[32000/60000 (53%)] \t 1.560455\n",
      "Train Epoch: 5[34000/60000 (57%)] \t 1.484459\n",
      "Train Epoch: 5[36000/60000 (60%)] \t 1.492315\n",
      "Train Epoch: 5[38000/60000 (63%)] \t 1.585446\n",
      "Train Epoch: 5[40000/60000 (67%)] \t 1.508932\n",
      "Train Epoch: 5[42000/60000 (70%)] \t 1.587934\n",
      "Train Epoch: 5[44000/60000 (73%)] \t 1.550892\n",
      "Train Epoch: 5[46000/60000 (77%)] \t 1.545994\n",
      "Train Epoch: 5[48000/60000 (80%)] \t 1.537067\n",
      "Train Epoch: 5[50000/60000 (83%)] \t 1.507030\n",
      "Train Epoch: 5[52000/60000 (87%)] \t 1.529692\n",
      "Train Epoch: 5[54000/60000 (90%)] \t 1.544445\n",
      "Train Epoch: 5[56000/60000 (93%)] \t 1.495597\n",
      "Train Epoch: 5[58000/60000 (97%)] \t 1.580153\n",
      "\n",
      "Test set: Average loss: 0.0150, Accuracy9635/10000(96%\n",
      ")\n",
      "Train Epoch: 6[0/60000 (0%)] \t 1.540233\n",
      "Train Epoch: 6[2000/60000 (3%)] \t 1.565203\n",
      "Train Epoch: 6[4000/60000 (7%)] \t 1.560872\n",
      "Train Epoch: 6[6000/60000 (10%)] \t 1.536320\n",
      "Train Epoch: 6[8000/60000 (13%)] \t 1.528848\n",
      "Train Epoch: 6[10000/60000 (17%)] \t 1.552424\n",
      "Train Epoch: 6[12000/60000 (20%)] \t 1.606523\n",
      "Train Epoch: 6[14000/60000 (23%)] \t 1.518305\n",
      "Train Epoch: 6[16000/60000 (27%)] \t 1.556272\n",
      "Train Epoch: 6[18000/60000 (30%)] \t 1.567106\n",
      "Train Epoch: 6[20000/60000 (33%)] \t 1.570666\n",
      "Train Epoch: 6[22000/60000 (37%)] \t 1.558162\n",
      "Train Epoch: 6[24000/60000 (40%)] \t 1.550798\n",
      "Train Epoch: 6[26000/60000 (43%)] \t 1.566379\n",
      "Train Epoch: 6[28000/60000 (47%)] \t 1.527391\n",
      "Train Epoch: 6[30000/60000 (50%)] \t 1.545255\n",
      "Train Epoch: 6[32000/60000 (53%)] \t 1.570282\n",
      "Train Epoch: 6[34000/60000 (57%)] \t 1.528992\n",
      "Train Epoch: 6[36000/60000 (60%)] \t 1.524725\n",
      "Train Epoch: 6[38000/60000 (63%)] \t 1.513268\n",
      "Train Epoch: 6[40000/60000 (67%)] \t 1.530503\n",
      "Train Epoch: 6[42000/60000 (70%)] \t 1.524022\n",
      "Train Epoch: 6[44000/60000 (73%)] \t 1.590232\n",
      "Train Epoch: 6[46000/60000 (77%)] \t 1.503730\n",
      "Train Epoch: 6[48000/60000 (80%)] \t 1.521990\n",
      "Train Epoch: 6[50000/60000 (83%)] \t 1.532403\n",
      "Train Epoch: 6[52000/60000 (87%)] \t 1.578224\n",
      "Train Epoch: 6[54000/60000 (90%)] \t 1.510242\n",
      "Train Epoch: 6[56000/60000 (93%)] \t 1.528398\n",
      "Train Epoch: 6[58000/60000 (97%)] \t 1.541546\n",
      "\n",
      "Test set: Average loss: 0.0149, Accuracy9672/10000(97%\n",
      ")\n",
      "Train Epoch: 7[0/60000 (0%)] \t 1.534403\n",
      "Train Epoch: 7[2000/60000 (3%)] \t 1.517134\n",
      "Train Epoch: 7[4000/60000 (7%)] \t 1.504611\n",
      "Train Epoch: 7[6000/60000 (10%)] \t 1.584285\n",
      "Train Epoch: 7[8000/60000 (13%)] \t 1.560740\n",
      "Train Epoch: 7[10000/60000 (17%)] \t 1.529196\n",
      "Train Epoch: 7[12000/60000 (20%)] \t 1.561814\n",
      "Train Epoch: 7[14000/60000 (23%)] \t 1.562574\n",
      "Train Epoch: 7[16000/60000 (27%)] \t 1.556317\n",
      "Train Epoch: 7[18000/60000 (30%)] \t 1.510364\n",
      "Train Epoch: 7[20000/60000 (33%)] \t 1.548702\n",
      "Train Epoch: 7[22000/60000 (37%)] \t 1.603578\n",
      "Train Epoch: 7[24000/60000 (40%)] \t 1.525292\n",
      "Train Epoch: 7[26000/60000 (43%)] \t 1.558541\n",
      "Train Epoch: 7[28000/60000 (47%)] \t 1.537693\n",
      "Train Epoch: 7[30000/60000 (50%)] \t 1.551226\n",
      "Train Epoch: 7[32000/60000 (53%)] \t 1.522643\n",
      "Train Epoch: 7[34000/60000 (57%)] \t 1.568662\n",
      "Train Epoch: 7[36000/60000 (60%)] \t 1.545021\n",
      "Train Epoch: 7[38000/60000 (63%)] \t 1.515522\n",
      "Train Epoch: 7[40000/60000 (67%)] \t 1.529467\n",
      "Train Epoch: 7[42000/60000 (70%)] \t 1.504783\n",
      "Train Epoch: 7[44000/60000 (73%)] \t 1.531251\n",
      "Train Epoch: 7[46000/60000 (77%)] \t 1.551053\n",
      "Train Epoch: 7[48000/60000 (80%)] \t 1.550409\n",
      "Train Epoch: 7[50000/60000 (83%)] \t 1.552641\n",
      "Train Epoch: 7[52000/60000 (87%)] \t 1.589427\n",
      "Train Epoch: 7[54000/60000 (90%)] \t 1.602874\n",
      "Train Epoch: 7[56000/60000 (93%)] \t 1.537330\n",
      "Train Epoch: 7[58000/60000 (97%)] \t 1.540538\n",
      "\n",
      "Test set: Average loss: 0.0149, Accuracy9665/10000(97%\n",
      ")\n",
      "Train Epoch: 8[0/60000 (0%)] \t 1.512576\n",
      "Train Epoch: 8[2000/60000 (3%)] \t 1.506252\n",
      "Train Epoch: 8[4000/60000 (7%)] \t 1.542023\n",
      "Train Epoch: 8[6000/60000 (10%)] \t 1.530055\n",
      "Train Epoch: 8[8000/60000 (13%)] \t 1.532543\n",
      "Train Epoch: 8[10000/60000 (17%)] \t 1.561683\n",
      "Train Epoch: 8[12000/60000 (20%)] \t 1.532329\n",
      "Train Epoch: 8[14000/60000 (23%)] \t 1.576404\n",
      "Train Epoch: 8[16000/60000 (27%)] \t 1.530442\n",
      "Train Epoch: 8[18000/60000 (30%)] \t 1.531533\n",
      "Train Epoch: 8[20000/60000 (33%)] \t 1.561190\n",
      "Train Epoch: 8[22000/60000 (37%)] \t 1.556579\n",
      "Train Epoch: 8[24000/60000 (40%)] \t 1.519762\n",
      "Train Epoch: 8[26000/60000 (43%)] \t 1.519102\n",
      "Train Epoch: 8[28000/60000 (47%)] \t 1.531763\n",
      "Train Epoch: 8[30000/60000 (50%)] \t 1.506026\n",
      "Train Epoch: 8[32000/60000 (53%)] \t 1.520184\n",
      "Train Epoch: 8[34000/60000 (57%)] \t 1.540593\n",
      "Train Epoch: 8[36000/60000 (60%)] \t 1.532834\n",
      "Train Epoch: 8[38000/60000 (63%)] \t 1.578416\n",
      "Train Epoch: 8[40000/60000 (67%)] \t 1.557670\n",
      "Train Epoch: 8[42000/60000 (70%)] \t 1.508730\n",
      "Train Epoch: 8[44000/60000 (73%)] \t 1.508472\n",
      "Train Epoch: 8[46000/60000 (77%)] \t 1.496091\n",
      "Train Epoch: 8[48000/60000 (80%)] \t 1.485809\n",
      "Train Epoch: 8[50000/60000 (83%)] \t 1.544957\n",
      "Train Epoch: 8[52000/60000 (87%)] \t 1.502555\n",
      "Train Epoch: 8[54000/60000 (90%)] \t 1.519130\n",
      "Train Epoch: 8[56000/60000 (93%)] \t 1.507759\n",
      "Train Epoch: 8[58000/60000 (97%)] \t 1.505879\n",
      "\n",
      "Test set: Average loss: 0.0149, Accuracy9708/10000(97%\n",
      ")\n",
      "Train Epoch: 9[0/60000 (0%)] \t 1.576186\n",
      "Train Epoch: 9[2000/60000 (3%)] \t 1.532831\n",
      "Train Epoch: 9[4000/60000 (7%)] \t 1.511416\n",
      "Train Epoch: 9[6000/60000 (10%)] \t 1.529897\n",
      "Train Epoch: 9[8000/60000 (13%)] \t 1.515274\n",
      "Train Epoch: 9[10000/60000 (17%)] \t 1.505059\n",
      "Train Epoch: 9[12000/60000 (20%)] \t 1.522086\n",
      "Train Epoch: 9[14000/60000 (23%)] \t 1.515912\n",
      "Train Epoch: 9[16000/60000 (27%)] \t 1.530046\n",
      "Train Epoch: 9[18000/60000 (30%)] \t 1.498630\n",
      "Train Epoch: 9[20000/60000 (33%)] \t 1.542276\n",
      "Train Epoch: 9[22000/60000 (37%)] \t 1.578654\n",
      "Train Epoch: 9[24000/60000 (40%)] \t 1.475387\n",
      "Train Epoch: 9[26000/60000 (43%)] \t 1.545073\n",
      "Train Epoch: 9[28000/60000 (47%)] \t 1.519904\n",
      "Train Epoch: 9[30000/60000 (50%)] \t 1.508288\n",
      "Train Epoch: 9[32000/60000 (53%)] \t 1.514598\n",
      "Train Epoch: 9[34000/60000 (57%)] \t 1.542290\n",
      "Train Epoch: 9[36000/60000 (60%)] \t 1.509239\n",
      "Train Epoch: 9[38000/60000 (63%)] \t 1.515355\n",
      "Train Epoch: 9[40000/60000 (67%)] \t 1.526392\n",
      "Train Epoch: 9[42000/60000 (70%)] \t 1.516582\n",
      "Train Epoch: 9[44000/60000 (73%)] \t 1.555345\n",
      "Train Epoch: 9[46000/60000 (77%)] \t 1.516080\n",
      "Train Epoch: 9[48000/60000 (80%)] \t 1.496180\n",
      "Train Epoch: 9[50000/60000 (83%)] \t 1.519857\n",
      "Train Epoch: 9[52000/60000 (87%)] \t 1.536078\n",
      "Train Epoch: 9[54000/60000 (90%)] \t 1.529297\n",
      "Train Epoch: 9[56000/60000 (93%)] \t 1.559206\n",
      "Train Epoch: 9[58000/60000 (97%)] \t 1.552260\n",
      "\n",
      "Test set: Average loss: 0.0149, Accuracy9709/10000(97%\n",
      ")\n",
      "Train Epoch: 10[0/60000 (0%)] \t 1.528126\n",
      "Train Epoch: 10[2000/60000 (3%)] \t 1.512465\n",
      "Train Epoch: 10[4000/60000 (7%)] \t 1.551355\n",
      "Train Epoch: 10[6000/60000 (10%)] \t 1.551355\n",
      "Train Epoch: 10[8000/60000 (13%)] \t 1.498375\n",
      "Train Epoch: 10[10000/60000 (17%)] \t 1.508847\n",
      "Train Epoch: 10[12000/60000 (20%)] \t 1.553089\n",
      "Train Epoch: 10[14000/60000 (23%)] \t 1.521816\n",
      "Train Epoch: 10[16000/60000 (27%)] \t 1.533569\n",
      "Train Epoch: 10[18000/60000 (30%)] \t 1.527511\n",
      "Train Epoch: 10[20000/60000 (33%)] \t 1.566288\n",
      "Train Epoch: 10[22000/60000 (37%)] \t 1.545267\n",
      "Train Epoch: 10[24000/60000 (40%)] \t 1.556947\n",
      "Train Epoch: 10[26000/60000 (43%)] \t 1.555558\n",
      "Train Epoch: 10[28000/60000 (47%)] \t 1.560438\n",
      "Train Epoch: 10[30000/60000 (50%)] \t 1.525127\n",
      "Train Epoch: 10[32000/60000 (53%)] \t 1.556768\n",
      "Train Epoch: 10[34000/60000 (57%)] \t 1.580041\n",
      "Train Epoch: 10[36000/60000 (60%)] \t 1.533535\n",
      "Train Epoch: 10[38000/60000 (63%)] \t 1.501160\n",
      "Train Epoch: 10[40000/60000 (67%)] \t 1.526512\n",
      "Train Epoch: 10[42000/60000 (70%)] \t 1.557132\n",
      "Train Epoch: 10[44000/60000 (73%)] \t 1.547653\n",
      "Train Epoch: 10[46000/60000 (77%)] \t 1.529066\n",
      "Train Epoch: 10[48000/60000 (80%)] \t 1.511674\n",
      "Train Epoch: 10[50000/60000 (83%)] \t 1.506382\n",
      "Train Epoch: 10[52000/60000 (87%)] \t 1.515312\n",
      "Train Epoch: 10[54000/60000 (90%)] \t 1.537724\n",
      "Train Epoch: 10[56000/60000 (93%)] \t 1.520382\n",
      "Train Epoch: 10[58000/60000 (97%)] \t 1.523988\n",
      "\n",
      "Test set: Average loss: 0.0149, Accuracy9693/10000(97%\n",
      ")\n"
     ]
    }
   ],
   "source": [
    "for epoch in range(1,11):\n",
    "    train(epoch)\n",
    "    test()"
   ]
  },
  {
   "cell_type": "code",
   "execution_count": 53,
   "metadata": {},
   "outputs": [
    {
     "data": {
      "text/plain": [
       "device(type='cpu')"
      ]
     },
     "execution_count": 53,
     "metadata": {},
     "output_type": "execute_result"
    }
   ],
   "source": [
    "device"
   ]
  },
  {
   "cell_type": "code",
   "execution_count": 57,
   "metadata": {},
   "outputs": [
    {
     "name": "stderr",
     "output_type": "stream",
     "text": [
      "/var/folders/z5/9j56pcy9201dt_t1pww9k6g80000gn/T/ipykernel_3927/3199859990.py:23: UserWarning: Implicit dimension choice for softmax has been deprecated. Change the call to include dim=X as an argument.\n",
      "  return F.softmax(x)\n"
     ]
    },
    {
     "name": "stdout",
     "output_type": "stream",
     "text": [
      "Prediction: 0\n"
     ]
    },
    {
     "data": {
      "image/png": "[encoded data removed]",
      "text/plain": [
       "<Figure size 640x480 with 1 Axes>"
      ]
     },
     "metadata": {},
     "output_type": "display_data"
    }
   ],
   "source": [
    "import matplotlib.pyplot as plt\n",
    "\n",
    "model.eval()\n",
    "\n",
    "data, target = test_data[3] \n",
    "\n",
    "data = data.unsqueeze(0).to(device)\n",
    "\n",
    "output = model(data)\n",
    "\n",
    "prediction = output.argmax(dim=1,keepdim=True).item()\n",
    "\n",
    "print(f'Prediction: {prediction}')\n",
    "\n",
    "image = data.squeeze(0).squeeze(0).cpu().numpy()\n",
    "\n",
    "plt.imshow(image,cmap='gray')\n",
    "plt.show()\n"
   ]
  },
  {
   "cell_type": "code",
   "execution_count": null,
   "metadata": {},
   "outputs": [],
   "source": []
  }
 ],
 "metadata": {
  "kernelspec": {
   "display_name": "Python 3",
   "language": "python",
   "name": "python3"
  },
  "language_info": {
   "codemirror_mode": {
    "name": "ipython",
    "version": 3
   },
   "file_extension": ".py",
   "mimetype": "text/x-python",
   "name": "python",
   "nbconvert_exporter": "python",
   "pygments_lexer": "ipython3",
   "version": "3.11.2"
  }
 },
 "nbformat": 4,
 "nbformat_minor": 2
}
